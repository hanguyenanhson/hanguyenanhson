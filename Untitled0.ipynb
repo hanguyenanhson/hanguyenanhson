{
  "cells": [
    {
      "cell_type": "markdown",
      "metadata": {
        "id": "view-in-github",
        "colab_type": "text"
      },
      "source": [
        "<a href=\"https://colab.research.google.com/github/hanguyenanhson/hanguyenanhson/blob/main/Untitled0.ipynb\" target=\"_parent\"><img src=\"https://colab.research.google.com/assets/colab-badge.svg\" alt=\"Open In Colab\"/></a>"
      ]
    },
    {
      "cell_type": "code",
      "execution_count": 2,
      "metadata": {
        "colab": {
          "base_uri": "https://localhost:8080/"
        },
        "id": "ZptOSctC6FRX",
        "outputId": "7107f64d-6122-4a1c-b9be-c477868510d8"
      },
      "outputs": [
        {
          "output_type": "stream",
          "name": "stdout",
          "text": [
            "fatal: destination path 'Ecommerce-products-label-classification' already exists and is not an empty directory.\n"
          ]
        }
      ],
      "source": [
        "!git clone https://github.com/pihaf/Ecommerce-products-label-classification.git"
      ]
    },
    {
      "cell_type": "markdown",
      "metadata": {
        "id": "SadW8NDb7KHr"
      },
      "source": []
    },
    {
      "cell_type": "code",
      "execution_count": 3,
      "metadata": {
        "colab": {
          "base_uri": "https://localhost:8080/"
        },
        "id": "Mq7Okd4T7KV_",
        "outputId": "1ed0f48c-77bd-4d48-e08c-823d50a90d59"
      },
      "outputs": [
        {
          "output_type": "stream",
          "name": "stdout",
          "text": [
            "/content/Ecommerce-products-label-classification\n"
          ]
        }
      ],
      "source": [
        "cd /content/Ecommerce-products-label-classification\n"
      ]
    },
    {
      "cell_type": "code",
      "execution_count": 5,
      "metadata": {
        "colab": {
          "base_uri": "https://localhost:8080/"
        },
        "id": "orCJe3E37s1Q",
        "outputId": "036b754f-918b-4fa0-9550-b7eca201da1d"
      },
      "outputs": [
        {
          "output_type": "stream",
          "name": "stdout",
          "text": [
            "2023-11-15 13:01:56.896985: E tensorflow/compiler/xla/stream_executor/cuda/cuda_dnn.cc:9342] Unable to register cuDNN factory: Attempting to register factory for plugin cuDNN when one has already been registered\n",
            "2023-11-15 13:01:56.897142: E tensorflow/compiler/xla/stream_executor/cuda/cuda_fft.cc:609] Unable to register cuFFT factory: Attempting to register factory for plugin cuFFT when one has already been registered\n",
            "2023-11-15 13:01:56.897276: E tensorflow/compiler/xla/stream_executor/cuda/cuda_blas.cc:1518] Unable to register cuBLAS factory: Attempting to register factory for plugin cuBLAS when one has already been registered\n",
            "Traceback (most recent call last):\n",
            "  File \"/content/Ecommerce-products-label-classification/sample_model.py\", line 6, in <module>\n",
            "    from tensorflow import keras\n",
            "  File \"/usr/local/lib/python3.10/dist-packages/tensorflow/__init__.py\", line 38, in <module>\n",
            "    from tensorflow.python.tools import module_util as _module_util\n",
            "  File \"/usr/local/lib/python3.10/dist-packages/tensorflow/python/__init__.py\", line 36, in <module>\n",
            "    from tensorflow.python import pywrap_tensorflow as _pywrap_tensorflow\n",
            "  File \"/usr/local/lib/python3.10/dist-packages/tensorflow/python/pywrap_tensorflow.py\", line 26, in <module>\n",
            "    self_check.preload_check()\n",
            "  File \"/usr/local/lib/python3.10/dist-packages/tensorflow/python/platform/self_check.py\", line 63, in preload_check\n",
            "    from tensorflow.python.platform import _pywrap_cpu_feature_guard\n",
            "KeyboardInterrupt\n",
            "^C\n"
          ]
        }
      ],
      "source": [
        "\n",
        "!python sample_model.py\n"
      ]
    },
    {
      "cell_type": "code",
      "source": [
        "!python model_predict.py"
      ],
      "metadata": {
        "id": "G4R1QtgbEyv8"
      },
      "execution_count": null,
      "outputs": []
    }
  ],
  "metadata": {
    "colab": {
      "provenance": [],
      "authorship_tag": "ABX9TyM1dhvG/Ftiald4FeGhBkEq",
      "include_colab_link": true
    },
    "kernelspec": {
      "display_name": "Python 3",
      "name": "python3"
    },
    "language_info": {
      "name": "python"
    }
  },
  "nbformat": 4,
  "nbformat_minor": 0
}